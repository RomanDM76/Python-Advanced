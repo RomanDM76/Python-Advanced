import os
from chardet.universaldetector import UniversalDetector

# Zadanie1
print('Задание 1')
a1 = 'Разработка'
b1 = 'Сокет'
c1 = 'Декоратор'

print('Type a is',type(a1))
print('Type b is',type(b1))
print('Type c is',type(b1))

print('a = ',a1)
print('b = ',b1)
print('c = ',c1)

print(a.encode())
print(b.encode())
print(c.encode())

print('Type a is',type(a))
print('Type b is',type(b))
print('Type c is',type(b))
print()

#Zadanie2
print('Задание 2')
a2 = b'Class'
b2 = b'Function'
c2 = b'Method'

print('Type a2 is',type(a2))
print('Type b2 is',type(b2))
print('Type c2 is',type(c2))

print('a2 = ',a2)
print('b2 = ',b2)
print('c2 = ',c2)
print()

#Zadanie3
print('Задание 3')
print('В батовой строке можно использовать исключительно символы из кодировки ASCII') 
a3 = b'attribute'
#b3 = b'класс'
#c3 = b'функция'
e3 = b'type'

print('Type a3 is',type(a3))
#print('Type b3 is',type(b3))
#print('Type c3 is',type(с3))
print('Type e3 is',type(e3))

print('a3 = ',a3)
#print('b3 = ',b3)
#print('c3 = ',c3)
print('e3 = ',e3)
print()

# Zadanie4 «разработка», «администрирование», «protocol», «standard»
print("Задание 4")
a4 = u'разработка'
b4 = u'администрирование'
c4 = u'protocol'
e4 = u'standard'

a4_byte = a4.encode()
b4_byte = b4.encode()
c4_byte = c4.encode()
e4_byte = e4.encode()

print('Type a4_byte is',type(a4_byte))
print(a4_byte)
print('Type b4_byte is',type(b4_byte))
print(b4_byte)
print('Type c4_byte is',type(c4_byte))
print(c4_byte)
print('Type e4_byte is',type(e4_byte))
print(e4_byte)

a4_str = a4_byte.decode()
b4_str = b4_byte.decode()
c4_str = c4_byte.decode()
e4_str = e4_byte.decode()

print('Type a4_str is',type(a4_str))
print(a4_str)
print('Type b4_str is',type(b4_str))
print(b4_str)
print('Type c4_str is',type(c4_str))
print(c4_str)
print('Type e4_str is',type(e4_str))
print(e4_str)
print()

#Zadanie5
print('Задание 5')
hostname1 = 'yandex.ru'
hostname2 = 'youtube.com'
response = os.system("ping  " + hostname1)
if response == 0:
  print(hostname1, 'is up!')
else:
  print(hostname1, 'is down!')
response = os.system("ping  " + hostname2)
if response == 0:
  print(hostname2, 'is up!')
else:
  print(hostname2, 'is down!')
print()

#Zadanie6
print('Задание 6')

with open('test_file.txt', 'wt', encoding='utf-16') as f:
  f.write('сетевое программирование')
  f.write('\n')
  f.write('сокет')
  f.write('\n')
  f.write('декоратор')
  f.write('\n')

detector = UniversalDetector()
with open('test_file.txt', 'rb') as fh:
    for line in fh:
        detector.feed(line)
        if detector.done:
            break
    detector.close()
print(detector.result)
print()

with open('test_file.txt', 'r',  encoding='utf-16') as inputFile:
    print(inputFile.read())
print()
